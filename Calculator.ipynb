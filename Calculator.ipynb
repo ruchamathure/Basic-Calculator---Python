{
 "cells": [
  {
   "cell_type": "markdown",
   "id": "4b7e287d",
   "metadata": {},
   "source": [
    "2 methods: 1. input separately 2. define a function"
   ]
  },
  {
   "cell_type": "code",
   "execution_count": 4,
   "id": "58d3ed18",
   "metadata": {},
   "outputs": [
    {
     "name": "stdout",
     "output_type": "stream",
     "text": [
      "Enter first value: 78\n",
      "Enter second value: 90\n",
      "Enter operator (+, -, *, /):-\n",
      "Result:  -12.0\n"
     ]
    }
   ],
   "source": [
    "# Method 1 -\n",
    "\n",
    "first = float(input(\"Enter first value: \"))\n",
    "second = float(input(\"Enter second value: \"))\n",
    "operator = str(input(\"Enter operator (+, -, *, /):\"))\n",
    "\n",
    "if operator == \"+\":\n",
    "  print(\"Result: \", first + second)\n",
    "else: \n",
    "  if operator == \"-\":\n",
    "    print(\"Result: \", first - second)\n",
    "  else: \n",
    "    if operator == \"*\":\n",
    "      print(\"Result: \", first * second)\n",
    "    else: \n",
    "      if operator == \"/\":\n",
    "        print(\"Result: \", first / second)"
   ]
  },
  {
   "cell_type": "code",
   "execution_count": 2,
   "id": "541d0aee",
   "metadata": {},
   "outputs": [
    {
     "name": "stdout",
     "output_type": "stream",
     "text": [
      "4 + 2 =  6\n",
      "4 - 2 =  2\n",
      "4 * 2 =  8\n",
      "4 / 2 =  2.0\n"
     ]
    }
   ],
   "source": [
    "# Method 2\n",
    "def calculator( firstvalue, secondvalue, operator):\n",
    "  if operator == '+':\n",
    "    print(f'{firstvalue} {operator} {secondvalue} = ', firstvalue + secondvalue)\n",
    "  else:\n",
    "    if operator == '-':\n",
    "      print(f'{firstvalue} {operator} {secondvalue} = ', firstvalue - secondvalue)\n",
    "    else: \n",
    "      if operator == '*':\n",
    "        print(f'{firstvalue} {operator} {secondvalue} = ', firstvalue * secondvalue)\n",
    "      else:\n",
    "        if operator == '/':\n",
    "          print(f'{firstvalue} {operator} {secondvalue} = ', firstvalue / secondvalue)\n",
    "          return\n",
    "\n",
    "calculator(4, 2, '+')\n",
    "calculator(4, 2, '-')\n",
    "calculator(4, 2, '*')\n",
    "calculator(4, 2, '/')\n"
   ]
  }
 ],
 "metadata": {
  "kernelspec": {
   "display_name": "Python 3 (ipykernel)",
   "language": "python",
   "name": "python3"
  },
  "language_info": {
   "codemirror_mode": {
    "name": "ipython",
    "version": 3
   },
   "file_extension": ".py",
   "mimetype": "text/x-python",
   "name": "python",
   "nbconvert_exporter": "python",
   "pygments_lexer": "ipython3",
   "version": "3.11.1"
  }
 },
 "nbformat": 4,
 "nbformat_minor": 5
}
